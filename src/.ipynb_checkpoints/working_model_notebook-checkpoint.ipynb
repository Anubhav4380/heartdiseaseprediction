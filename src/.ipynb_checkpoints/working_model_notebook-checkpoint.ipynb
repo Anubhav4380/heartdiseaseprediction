{
 "cells": [
  {
   "cell_type": "code",
   "execution_count": 1,
   "id": "7bfe346b",
   "metadata": {},
   "outputs": [],
   "source": [
    "#Basic\n",
    "import numpy as np\n",
    "import pandas as pd\n",
    "\n",
    "# Other libraries\n",
    "from sklearn.model_selection import train_test_split\n",
    "from sklearn.preprocessing import StandardScaler\n",
    "\n",
    "# Load Model\n",
    "import pickle"
   ]
  },
  {
   "cell_type": "code",
   "execution_count": 2,
   "id": "f18b26e8",
   "metadata": {},
   "outputs": [
    {
     "name": "stderr",
     "output_type": "stream",
     "text": [
      "C:\\Users\\Anubhav\\anaconda3\\envs\\fyp\\lib\\site-packages\\sklearn\\base.py:329: UserWarning: Trying to unpickle estimator KNeighborsClassifier from version 1.1.0 when using version 0.23.2. This might lead to breaking code or invalid results. Use at your own risk.\n",
      "  warnings.warn(\n"
     ]
    }
   ],
   "source": [
    "#Importing the trained model\n",
    "filename = '..\\pickle\\knn.pkl'\n",
    "clf = pickle.load(open(filename, 'rb'))"
   ]
  },
  {
   "cell_type": "code",
   "execution_count": 3,
   "id": "902f7441",
   "metadata": {},
   "outputs": [],
   "source": [
    "#Loading the dataset \"heart.csv\"\n",
    "dataset = pd.read_csv(\"..\\data\\heart.csv\")"
   ]
  },
  {
   "cell_type": "code",
   "execution_count": 4,
   "id": "1887fd8b",
   "metadata": {},
   "outputs": [],
   "source": [
    "#Creating dummies for data to be model ready and do scaling\n",
    "dataset = pd.get_dummies(dataset, columns = ['sex', 'cp', 'fbs', 'restecg', 'exang', 'slope', 'ca', 'thal'])\n",
    "standardScaler = StandardScaler()\n",
    "columns_to_scale = ['age', 'trestbps', 'chol', 'thalach', 'oldpeak']\n",
    "dataset[columns_to_scale] = standardScaler.fit_transform(dataset[columns_to_scale])"
   ]
  },
  {
   "cell_type": "code",
   "execution_count": 5,
   "id": "156cc99b",
   "metadata": {},
   "outputs": [],
   "source": [
    "#Taking input from the file\n",
    "inpu = []\n",
    "flag = False\n",
    "with open(\"..\\input\\input.txt\", \"r+\") as f:\n",
    "    while True:\n",
    "        line = f.readline()\n",
    "        if line == '':\n",
    "            break\n",
    "        for word in line.split(\" \"):\n",
    "            if not flag:\n",
    "                flag = True\n",
    "                continue\n",
    "            if flag:\n",
    "                flag = False\n",
    "                inpu.append(float(word))\n",
    "inpu = [inpu]"
   ]
  },
  {
   "cell_type": "code",
   "execution_count": 6,
   "id": "2daea1f5",
   "metadata": {},
   "outputs": [],
   "source": [
    "#Input to be tested\n",
    "#inpu = [[ 63. ,   10. ,   30. , 15. , 23. ,   10. ,   20. , 150. ,   20. , 2.3,   10. ,   20. ,   1.]]\n",
    "test_dataset = pd.DataFrame(inpu, columns=['age', 'sex', 'cp', 'trestbps', 'chol', 'fbs', 'restecg', 'thalach',\n",
    "       'exang', 'oldpeak', 'slope', 'ca', 'thal'])"
   ]
  },
  {
   "cell_type": "code",
   "execution_count": 7,
   "id": "9f4daca9",
   "metadata": {},
   "outputs": [
    {
     "data": {
      "text/plain": [
       "[[34.0, 0.0, 30.0, 15.0, 23.0, 10.0, 20.0, 150.0, 20.0, 2.3, 10.0, 20.0, 1.0]]"
      ]
     },
     "execution_count": 7,
     "metadata": {},
     "output_type": "execute_result"
    }
   ],
   "source": [
    "inpu"
   ]
  },
  {
   "cell_type": "code",
   "execution_count": 8,
   "id": "6df81a42",
   "metadata": {},
   "outputs": [],
   "source": [
    "#Scaling the input values\n",
    "test_dataset = pd.get_dummies(test_dataset, columns = ['sex', 'cp', 'fbs', 'restecg', 'exang', 'slope', 'ca', 'thal'])\n",
    "columns_to_scale = ['age', 'trestbps', 'chol', 'thalach', 'oldpeak']\n",
    "test_dataset[columns_to_scale] = standardScaler.transform(test_dataset[columns_to_scale])"
   ]
  },
  {
   "cell_type": "code",
   "execution_count": 9,
   "id": "ba994918",
   "metadata": {},
   "outputs": [],
   "source": [
    "test_dataset = test_dataset.reindex(columns = dataset.columns, fill_value=0)"
   ]
  },
  {
   "cell_type": "code",
   "execution_count": 10,
   "id": "95a5dddd",
   "metadata": {},
   "outputs": [],
   "source": [
    "#Droping the result column\n",
    "X = test_dataset.drop(['target'], axis = 1)"
   ]
  },
  {
   "cell_type": "code",
   "execution_count": 11,
   "id": "628ccd1f",
   "metadata": {},
   "outputs": [],
   "source": [
    "#dataset.head()"
   ]
  },
  {
   "cell_type": "code",
   "execution_count": 12,
   "id": "3ede4135",
   "metadata": {},
   "outputs": [],
   "source": [
    "#test_dataset.head()"
   ]
  },
  {
   "cell_type": "code",
   "execution_count": 13,
   "id": "27d394a9",
   "metadata": {},
   "outputs": [],
   "source": [
    "#X.head()"
   ]
  },
  {
   "cell_type": "code",
   "execution_count": 17,
   "id": "c6e0c626",
   "metadata": {},
   "outputs": [],
   "source": [
    "#Predicting the result with the probability\n",
    "prediction = clf.predict(X)\n",
    "pred_prob = clf.predict_proba(X)*100\n",
    "value_likely = pred_prob[0][1]"
   ]
  },
  {
   "cell_type": "code",
   "execution_count": 22,
   "id": "bc342958",
   "metadata": {},
   "outputs": [],
   "source": [
    "def test_result(var):\n",
    "    outputstr = 'No Presence of Heart Disease'+' ('+str(value_likely)+'%)'\n",
    "    if(int(var) != 0):\n",
    "      outputstr = 'Presence of Heart Disease'+' ('+str(value_likely)+'%)'\n",
    "    print(outputstr)\n",
    "    return"
   ]
  },
  {
   "cell_type": "code",
   "execution_count": 23,
   "id": "84a174c7",
   "metadata": {},
   "outputs": [
    {
     "name": "stdout",
     "output_type": "stream",
     "text": [
      "Presence of Heart Disease (87.5%)\n"
     ]
    }
   ],
   "source": [
    "test_result(prediction[0])"
   ]
  },
  {
   "cell_type": "markdown",
   "id": "051771e7",
   "metadata": {},
   "source": [
    "#### End of Code"
   ]
  }
 ],
 "metadata": {
  "kernelspec": {
   "display_name": "fyp",
   "language": "python",
   "name": "fyp"
  },
  "language_info": {
   "codemirror_mode": {
    "name": "ipython",
    "version": 3
   },
   "file_extension": ".py",
   "mimetype": "text/x-python",
   "name": "python",
   "nbconvert_exporter": "python",
   "pygments_lexer": "ipython3",
   "version": "3.9.12"
  }
 },
 "nbformat": 4,
 "nbformat_minor": 5
}
