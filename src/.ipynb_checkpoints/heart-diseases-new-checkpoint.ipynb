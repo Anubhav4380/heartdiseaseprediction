{
 "cells": [
  {
   "cell_type": "code",
   "execution_count": 1,
   "id": "6ca3e608",
   "metadata": {
    "_cell_guid": "b1076dfc-b9ad-4769-8c92-a6c4dae69d19",
    "_uuid": "8f2839f25d086af736a60e9eeb907d3b93b6e0e5",
    "execution": {
     "iopub.execute_input": "2022-06-15T11:38:12.412489Z",
     "iopub.status.busy": "2022-06-15T11:38:12.411840Z",
     "iopub.status.idle": "2022-06-15T11:38:12.428964Z",
     "shell.execute_reply": "2022-06-15T11:38:12.428074Z"
    },
    "papermill": {
     "duration": 0.040998,
     "end_time": "2022-06-15T11:38:12.431305",
     "exception": false,
     "start_time": "2022-06-15T11:38:12.390307",
     "status": "completed"
    },
    "tags": []
   },
   "outputs": [
    {
     "name": "stdout",
     "output_type": "stream",
     "text": [
      "/kaggle/input/heart-disease-uci/heart.csv\n"
     ]
    }
   ],
   "source": [
    "import numpy as np # linear algebra\n",
    "import pandas as pd # data processing, CSV file I/O (e.g. pd.read_csv)\n",
    "\n",
    "import os\n",
    "for dirname, _, filenames in os.walk('/kaggle/input'):\n",
    "    for filename in filenames:\n",
    "        print(os.path.join(dirname, filename))"
   ]
  },
  {
   "cell_type": "code",
   "execution_count": 2,
   "id": "86da0c3c",
   "metadata": {
    "execution": {
     "iopub.execute_input": "2022-06-15T11:38:12.472649Z",
     "iopub.status.busy": "2022-06-15T11:38:12.471994Z",
     "iopub.status.idle": "2022-06-15T11:38:13.983141Z",
     "shell.execute_reply": "2022-06-15T11:38:13.981869Z"
    },
    "papermill": {
     "duration": 1.533679,
     "end_time": "2022-06-15T11:38:13.985951",
     "exception": false,
     "start_time": "2022-06-15T11:38:12.452272",
     "status": "completed"
    },
    "tags": []
   },
   "outputs": [],
   "source": [
    "#Basic\n",
    "import numpy as np\n",
    "import pandas as pd\n",
    "import matplotlib.pyplot as plt\n",
    "from matplotlib import rcParams\n",
    "from matplotlib.cm import rainbow\n",
    "%matplotlib inline\n",
    "import warnings\n",
    "warnings.filterwarnings('ignore')\n",
    "\n",
    "# Other libraries\n",
    "from sklearn.model_selection import train_test_split\n",
    "from sklearn.preprocessing import StandardScaler\n",
    "\n",
    "# Machine Learning\n",
    "from sklearn.neighbors import KNeighborsClassifier\n",
    "from sklearn.svm import SVC\n",
    "from sklearn.tree import DecisionTreeClassifier\n",
    "from sklearn.ensemble import RandomForestClassifier"
   ]
  },
  {
   "cell_type": "code",
   "execution_count": 3,
   "id": "63f83566",
   "metadata": {
    "execution": {
     "iopub.execute_input": "2022-06-15T11:38:14.028892Z",
     "iopub.status.busy": "2022-06-15T11:38:14.027941Z",
     "iopub.status.idle": "2022-06-15T11:38:14.032448Z",
     "shell.execute_reply": "2022-06-15T11:38:14.031714Z"
    },
    "papermill": {
     "duration": 0.029586,
     "end_time": "2022-06-15T11:38:14.034770",
     "exception": false,
     "start_time": "2022-06-15T11:38:14.005184",
     "status": "completed"
    },
    "tags": []
   },
   "outputs": [],
   "source": [
    "import sklearn"
   ]
  },
  {
   "cell_type": "code",
   "execution_count": 4,
   "id": "77236318",
   "metadata": {
    "execution": {
     "iopub.execute_input": "2022-06-15T11:38:14.082015Z",
     "iopub.status.busy": "2022-06-15T11:38:14.081317Z",
     "iopub.status.idle": "2022-06-15T11:38:14.090007Z",
     "shell.execute_reply": "2022-06-15T11:38:14.089208Z"
    },
    "papermill": {
     "duration": 0.034265,
     "end_time": "2022-06-15T11:38:14.092385",
     "exception": false,
     "start_time": "2022-06-15T11:38:14.058120",
     "status": "completed"
    },
    "tags": []
   },
   "outputs": [
    {
     "data": {
      "text/plain": [
       "'1.0.2'"
      ]
     },
     "execution_count": 4,
     "metadata": {},
     "output_type": "execute_result"
    }
   ],
   "source": [
    "sklearn.__version__"
   ]
  },
  {
   "cell_type": "markdown",
   "id": "a8a2ca08",
   "metadata": {
    "papermill": {
     "duration": 0.02011,
     "end_time": "2022-06-15T11:38:14.130540",
     "exception": false,
     "start_time": "2022-06-15T11:38:14.110430",
     "status": "completed"
    },
    "tags": []
   },
   "source": [
    "# Import dataset"
   ]
  },
  {
   "cell_type": "code",
   "execution_count": 5,
   "id": "54f57135",
   "metadata": {
    "execution": {
     "iopub.execute_input": "2022-06-15T11:38:14.174211Z",
     "iopub.status.busy": "2022-06-15T11:38:14.173277Z",
     "iopub.status.idle": "2022-06-15T11:38:14.189944Z",
     "shell.execute_reply": "2022-06-15T11:38:14.188976Z"
    },
    "papermill": {
     "duration": 0.039273,
     "end_time": "2022-06-15T11:38:14.192231",
     "exception": false,
     "start_time": "2022-06-15T11:38:14.152958",
     "status": "completed"
    },
    "tags": []
   },
   "outputs": [],
   "source": [
    "dataset = pd.read_csv(\"/kaggle/input/heart-disease-uci/heart.csv\")"
   ]
  },
  {
   "cell_type": "code",
   "execution_count": 6,
   "id": "41f28651",
   "metadata": {
    "execution": {
     "iopub.execute_input": "2022-06-15T11:38:14.230181Z",
     "iopub.status.busy": "2022-06-15T11:38:14.229770Z",
     "iopub.status.idle": "2022-06-15T11:38:14.258920Z",
     "shell.execute_reply": "2022-06-15T11:38:14.257896Z"
    },
    "papermill": {
     "duration": 0.05071,
     "end_time": "2022-06-15T11:38:14.261316",
     "exception": false,
     "start_time": "2022-06-15T11:38:14.210606",
     "status": "completed"
    },
    "tags": []
   },
   "outputs": [
    {
     "name": "stdout",
     "output_type": "stream",
     "text": [
      "<class 'pandas.core.frame.DataFrame'>\n",
      "RangeIndex: 303 entries, 0 to 302\n",
      "Data columns (total 14 columns):\n",
      " #   Column    Non-Null Count  Dtype  \n",
      "---  ------    --------------  -----  \n",
      " 0   age       303 non-null    int64  \n",
      " 1   sex       303 non-null    int64  \n",
      " 2   cp        303 non-null    int64  \n",
      " 3   trestbps  303 non-null    int64  \n",
      " 4   chol      303 non-null    int64  \n",
      " 5   fbs       303 non-null    int64  \n",
      " 6   restecg   303 non-null    int64  \n",
      " 7   thalach   303 non-null    int64  \n",
      " 8   exang     303 non-null    int64  \n",
      " 9   oldpeak   303 non-null    float64\n",
      " 10  slope     303 non-null    int64  \n",
      " 11  ca        303 non-null    int64  \n",
      " 12  thal      303 non-null    int64  \n",
      " 13  target    303 non-null    int64  \n",
      "dtypes: float64(1), int64(13)\n",
      "memory usage: 33.3 KB\n"
     ]
    }
   ],
   "source": [
    "dataset.info()"
   ]
  },
  {
   "cell_type": "code",
   "execution_count": 7,
   "id": "eb172369",
   "metadata": {
    "execution": {
     "iopub.execute_input": "2022-06-15T11:38:14.300729Z",
     "iopub.status.busy": "2022-06-15T11:38:14.299767Z",
     "iopub.status.idle": "2022-06-15T11:38:14.320137Z",
     "shell.execute_reply": "2022-06-15T11:38:14.319116Z"
    },
    "papermill": {
     "duration": 0.042945,
     "end_time": "2022-06-15T11:38:14.322558",
     "exception": false,
     "start_time": "2022-06-15T11:38:14.279613",
     "status": "completed"
    },
    "tags": []
   },
   "outputs": [
    {
     "data": {
      "text/html": [
       "<div>\n",
       "<style scoped>\n",
       "    .dataframe tbody tr th:only-of-type {\n",
       "        vertical-align: middle;\n",
       "    }\n",
       "\n",
       "    .dataframe tbody tr th {\n",
       "        vertical-align: top;\n",
       "    }\n",
       "\n",
       "    .dataframe thead th {\n",
       "        text-align: right;\n",
       "    }\n",
       "</style>\n",
       "<table border=\"1\" class=\"dataframe\">\n",
       "  <thead>\n",
       "    <tr style=\"text-align: right;\">\n",
       "      <th></th>\n",
       "      <th>age</th>\n",
       "      <th>sex</th>\n",
       "      <th>cp</th>\n",
       "      <th>trestbps</th>\n",
       "      <th>chol</th>\n",
       "      <th>fbs</th>\n",
       "      <th>restecg</th>\n",
       "      <th>thalach</th>\n",
       "      <th>exang</th>\n",
       "      <th>oldpeak</th>\n",
       "      <th>slope</th>\n",
       "      <th>ca</th>\n",
       "      <th>thal</th>\n",
       "      <th>target</th>\n",
       "    </tr>\n",
       "  </thead>\n",
       "  <tbody>\n",
       "    <tr>\n",
       "      <th>0</th>\n",
       "      <td>63</td>\n",
       "      <td>1</td>\n",
       "      <td>3</td>\n",
       "      <td>145</td>\n",
       "      <td>233</td>\n",
       "      <td>1</td>\n",
       "      <td>0</td>\n",
       "      <td>150</td>\n",
       "      <td>0</td>\n",
       "      <td>2.3</td>\n",
       "      <td>0</td>\n",
       "      <td>0</td>\n",
       "      <td>1</td>\n",
       "      <td>1</td>\n",
       "    </tr>\n",
       "    <tr>\n",
       "      <th>1</th>\n",
       "      <td>37</td>\n",
       "      <td>1</td>\n",
       "      <td>2</td>\n",
       "      <td>130</td>\n",
       "      <td>250</td>\n",
       "      <td>0</td>\n",
       "      <td>1</td>\n",
       "      <td>187</td>\n",
       "      <td>0</td>\n",
       "      <td>3.5</td>\n",
       "      <td>0</td>\n",
       "      <td>0</td>\n",
       "      <td>2</td>\n",
       "      <td>1</td>\n",
       "    </tr>\n",
       "    <tr>\n",
       "      <th>2</th>\n",
       "      <td>41</td>\n",
       "      <td>0</td>\n",
       "      <td>1</td>\n",
       "      <td>130</td>\n",
       "      <td>204</td>\n",
       "      <td>0</td>\n",
       "      <td>0</td>\n",
       "      <td>172</td>\n",
       "      <td>0</td>\n",
       "      <td>1.4</td>\n",
       "      <td>2</td>\n",
       "      <td>0</td>\n",
       "      <td>2</td>\n",
       "      <td>1</td>\n",
       "    </tr>\n",
       "    <tr>\n",
       "      <th>3</th>\n",
       "      <td>56</td>\n",
       "      <td>1</td>\n",
       "      <td>1</td>\n",
       "      <td>120</td>\n",
       "      <td>236</td>\n",
       "      <td>0</td>\n",
       "      <td>1</td>\n",
       "      <td>178</td>\n",
       "      <td>0</td>\n",
       "      <td>0.8</td>\n",
       "      <td>2</td>\n",
       "      <td>0</td>\n",
       "      <td>2</td>\n",
       "      <td>1</td>\n",
       "    </tr>\n",
       "    <tr>\n",
       "      <th>4</th>\n",
       "      <td>57</td>\n",
       "      <td>0</td>\n",
       "      <td>0</td>\n",
       "      <td>120</td>\n",
       "      <td>354</td>\n",
       "      <td>0</td>\n",
       "      <td>1</td>\n",
       "      <td>163</td>\n",
       "      <td>1</td>\n",
       "      <td>0.6</td>\n",
       "      <td>2</td>\n",
       "      <td>0</td>\n",
       "      <td>2</td>\n",
       "      <td>1</td>\n",
       "    </tr>\n",
       "  </tbody>\n",
       "</table>\n",
       "</div>"
      ],
      "text/plain": [
       "   age  sex  cp  trestbps  chol  fbs  restecg  thalach  exang  oldpeak  slope  \\\n",
       "0   63    1   3       145   233    1        0      150      0      2.3      0   \n",
       "1   37    1   2       130   250    0        1      187      0      3.5      0   \n",
       "2   41    0   1       130   204    0        0      172      0      1.4      2   \n",
       "3   56    1   1       120   236    0        1      178      0      0.8      2   \n",
       "4   57    0   0       120   354    0        1      163      1      0.6      2   \n",
       "\n",
       "   ca  thal  target  \n",
       "0   0     1       1  \n",
       "1   0     2       1  \n",
       "2   0     2       1  \n",
       "3   0     2       1  \n",
       "4   0     2       1  "
      ]
     },
     "execution_count": 7,
     "metadata": {},
     "output_type": "execute_result"
    }
   ],
   "source": [
    "dataset.head()"
   ]
  },
  {
   "cell_type": "markdown",
   "id": "73754081",
   "metadata": {
    "papermill": {
     "duration": 0.018364,
     "end_time": "2022-06-15T11:38:14.360377",
     "exception": false,
     "start_time": "2022-06-15T11:38:14.342013",
     "status": "completed"
    },
    "tags": []
   },
   "source": [
    "# Understanding the data\n",
    "\n",
    "*Correlation Matrix*\n",
    "\n",
    "*To begin with, let’s see the correlation matrix of features and try to analyse it. The figure size is defined to 12 x 8 by using rcParams. Then, I used pyplot to show the correlation matrix. Using xticks and yticks, I’ve added names to the correlation matrix. colorbar() shows the colorbar for the matrix.*"
   ]
  },
  {
   "cell_type": "code",
   "execution_count": 8,
   "id": "f1f651d9",
   "metadata": {
    "execution": {
     "iopub.execute_input": "2022-06-15T11:38:14.408907Z",
     "iopub.status.busy": "2022-06-15T11:38:14.408252Z",
     "iopub.status.idle": "2022-06-15T11:38:14.637738Z",
     "shell.execute_reply": "2022-06-15T11:38:14.636734Z"
    },
    "papermill": {
     "duration": 0.257401,
     "end_time": "2022-06-15T11:38:14.640145",
     "exception": false,
     "start_time": "2022-06-15T11:38:14.382744",
     "status": "completed"
    },
    "tags": []
   },
   "outputs": [],
   "source": [
    "import seaborn as sns"
   ]
  },
  {
   "cell_type": "code",
   "execution_count": 9,
   "id": "291430b0",
   "metadata": {
    "execution": {
     "iopub.execute_input": "2022-06-15T11:38:14.679872Z",
     "iopub.status.busy": "2022-06-15T11:38:14.679163Z",
     "iopub.status.idle": "2022-06-15T11:38:15.689520Z",
     "shell.execute_reply": "2022-06-15T11:38:15.688307Z"
    },
    "papermill": {
     "duration": 1.033513,
     "end_time": "2022-06-15T11:38:15.692722",
     "exception": false,
     "start_time": "2022-06-15T11:38:14.659209",
     "status": "completed"
    },
    "tags": []
   },
   "outputs": [
    {
     "data": {
      "image/png": "[encoded data removed]",
      "text/plain": [
       "<Figure size 1080x864 with 1 Axes>"
      ]
     },
     "metadata": {
      "needs_background": "light"
     },
     "output_type": "display_data"
    }
   ],
   "source": [
    "plt.rcParams['figure.figsize'] = (15, 12)\n",
    "sns.heatmap(dataset.corr(), cmap='gray', annot=True, cbar=False)\n",
    "plt.show()"
   ]
  },
  {
   "cell_type": "code",
   "execution_count": 10,
   "id": "b68800ba",
   "metadata": {
    "execution": {
     "iopub.execute_input": "2022-06-15T11:38:15.736362Z",
     "iopub.status.busy": "2022-06-15T11:38:15.735735Z",
     "iopub.status.idle": "2022-06-15T11:38:16.252818Z",
     "shell.execute_reply": "2022-06-15T11:38:16.251634Z"
    },
    "papermill": {
     "duration": 0.541983,
     "end_time": "2022-06-15T11:38:16.255292",
     "exception": false,
     "start_time": "2022-06-15T11:38:15.713309",
     "status": "completed"
    },
    "tags": []
   },
   "outputs": [
    {
     "data": {
      "text/plain": [
       "<matplotlib.colorbar.Colorbar at 0x7f48e0fe5490>"
      ]
     },
     "execution_count": 10,
     "metadata": {},
     "output_type": "execute_result"
    },
    {
     "data": {
      "image/png": "[encoded data removed]",
      "text/plain": [
       "<Figure size 1008x1008 with 2 Axes>"
      ]
     },
     "metadata": {
      "needs_background": "light"
     },
     "output_type": "display_data"
    }
   ],
   "source": [
    "rcParams['figure.figsize'] = 20, 14\n",
    "plt.matshow(dataset.corr())\n",
    "plt.yticks(np.arange(dataset.shape[1]), dataset.columns)\n",
    "plt.xticks(np.arange(dataset.shape[1]), dataset.columns)\n",
    "plt.colorbar()"
   ]
  },
  {
   "cell_type": "markdown",
   "id": "1728742f",
   "metadata": {
    "papermill": {
     "duration": 0.021436,
     "end_time": "2022-06-15T11:38:16.298300",
     "exception": false,
     "start_time": "2022-06-15T11:38:16.276864",
     "status": "completed"
    },
    "tags": []
   },
   "source": [
    "*It’s easy to see that there is no single feature that has a very high correlation with our target value. Also, some of the features have a negative correlation with the target value and some have positive.*"
   ]
  },
  {
   "cell_type": "markdown",
   "id": "1a788e4a",
   "metadata": {
    "papermill": {
     "duration": 0.020848,
     "end_time": "2022-06-15T11:38:16.340731",
     "exception": false,
     "start_time": "2022-06-15T11:38:16.319883",
     "status": "completed"
    },
    "tags": []
   },
   "source": [
    "# Histogram\n",
    "\n",
    "*The best part about this type of plot is that it just takes a single command to draw the plots and it provides so much information in return. Just use dataset.hist().*"
   ]
  },
  {
   "cell_type": "code",
   "execution_count": 11,
   "id": "37b45263",
   "metadata": {
    "execution": {
     "iopub.execute_input": "2022-06-15T11:38:16.384976Z",
     "iopub.status.busy": "2022-06-15T11:38:16.384478Z",
     "iopub.status.idle": "2022-06-15T11:38:18.455089Z",
     "shell.execute_reply": "2022-06-15T11:38:18.453940Z"
    },
    "papermill": {
     "duration": 2.095835,
     "end_time": "2022-06-15T11:38:18.457745",
     "exception": false,
     "start_time": "2022-06-15T11:38:16.361910",
     "status": "completed"
    },
    "tags": []
   },
   "outputs": [
    {
     "data": {
      "text/plain": [
       "array([[<AxesSubplot:title={'center':'age'}>,\n",
       "        <AxesSubplot:title={'center':'sex'}>,\n",
       "        <AxesSubplot:title={'center':'cp'}>,\n",
       "        <AxesSubplot:title={'center':'trestbps'}>],\n",
       "       [<AxesSubplot:title={'center':'chol'}>,\n",
       "        <AxesSubplot:title={'center':'fbs'}>,\n",
       "        <AxesSubplot:title={'center':'restecg'}>,\n",
       "        <AxesSubplot:title={'center':'thalach'}>],\n",
       "       [<AxesSubplot:title={'center':'exang'}>,\n",
       "        <AxesSubplot:title={'center':'oldpeak'}>,\n",
       "        <AxesSubplot:title={'center':'slope'}>,\n",
       "        <AxesSubplot:title={'center':'ca'}>],\n",
       "       [<AxesSubplot:title={'center':'thal'}>,\n",
       "        <AxesSubplot:title={'center':'target'}>, <AxesSubplot:>,\n",
       "        <AxesSubplot:>]], dtype=object)"
      ]
     },
     "execution_count": 11,
     "metadata": {},
     "output_type": "execute_result"
    },
    {
     "data": {
      "image/png": "[encoded data removed]",
      "text/plain": [
       "<Figure size 1440x1008 with 16 Axes>"
      ]
     },
     "metadata": {
      "needs_background": "light"
     },
     "output_type": "display_data"
    }
   ],
   "source": [
    "dataset.hist()"
   ]
  },
  {
   "cell_type": "markdown",
   "id": "423db3e8",
   "metadata": {
    "papermill": {
     "duration": 0.021587,
     "end_time": "2022-06-15T11:38:18.501759",
     "exception": false,
     "start_time": "2022-06-15T11:38:18.480172",
     "status": "completed"
    },
    "tags": []
   },
   "source": [
    "*Let’s take a look at the plots. It shows how each feature and label is distributed along different ranges, which further confirms the need for scaling. Next, wherever you see discrete bars, it basically means that each of these is actually a categorical variable. We will need to handle these categorical variables before applying Machine Learning. Our target labels have two classes, 0 for no disease and 1 for disease.*"
   ]
  },
  {
   "cell_type": "markdown",
   "id": "9c1d08b7",
   "metadata": {
    "papermill": {
     "duration": 0.021872,
     "end_time": "2022-06-15T11:38:18.546326",
     "exception": false,
     "start_time": "2022-06-15T11:38:18.524454",
     "status": "completed"
    },
    "tags": []
   },
   "source": [
    "# Bar Plot for Target Class\n",
    "\n",
    "*It’s really essential that the dataset we are working on should be approximately balanced. An extremely imbalanced dataset can render the whole model training useless and thus, will be of no use. Let’s understand it with an example.*"
   ]
  },
  {
   "cell_type": "code",
   "execution_count": 12,
   "id": "88a277f1",
   "metadata": {
    "execution": {
     "iopub.execute_input": "2022-06-15T11:38:18.592929Z",
     "iopub.status.busy": "2022-06-15T11:38:18.592380Z",
     "iopub.status.idle": "2022-06-15T11:38:18.770083Z",
     "shell.execute_reply": "2022-06-15T11:38:18.768966Z"
    },
    "papermill": {
     "duration": 0.203965,
     "end_time": "2022-06-15T11:38:18.772395",
     "exception": false,
     "start_time": "2022-06-15T11:38:18.568430",
     "status": "completed"
    },
    "tags": []
   },
   "outputs": [
    {
     "data": {
      "text/plain": [
       "Text(0.5, 1.0, 'Count of each Target Class')"
      ]
     },
     "execution_count": 12,
     "metadata": {},
     "output_type": "execute_result"
    },
    {
     "data": {
      "image/png": "[encoded data removed]",
      "text/plain": [
       "<Figure size 576x432 with 1 Axes>"
      ]
     },
     "metadata": {
      "needs_background": "light"
     },
     "output_type": "display_data"
    }
   ],
   "source": [
    "rcParams['figure.figsize'] = 8,6\n",
    "plt.bar(dataset['target'].unique(), dataset['target'].value_counts(), color = ['red', 'green'])\n",
    "plt.xticks([0, 1])\n",
    "plt.xlabel('Target Classes')\n",
    "plt.ylabel('Count')\n",
    "plt.title('Count of each Target Class')"
   ]
  },
  {
   "cell_type": "markdown",
   "id": "fc32e729",
   "metadata": {
    "papermill": {
     "duration": 0.023212,
     "end_time": "2022-06-15T11:38:18.818706",
     "exception": false,
     "start_time": "2022-06-15T11:38:18.795494",
     "status": "completed"
    },
    "tags": []
   },
   "source": [
    "*For x-axis I used the unique() values from the target column and then set their name using xticks. For y-axis, I used value_count() to get the values for each class. I colored the bars as green and red.*"
   ]
  },
  {
   "cell_type": "code",
   "execution_count": 13,
   "id": "aa565b2f",
   "metadata": {
    "execution": {
     "iopub.execute_input": "2022-06-15T11:38:18.866803Z",
     "iopub.status.busy": "2022-06-15T11:38:18.865893Z",
     "iopub.status.idle": "2022-06-15T11:38:18.873287Z",
     "shell.execute_reply": "2022-06-15T11:38:18.872497Z"
    },
    "papermill": {
     "duration": 0.033535,
     "end_time": "2022-06-15T11:38:18.875281",
     "exception": false,
     "start_time": "2022-06-15T11:38:18.841746",
     "status": "completed"
    },
    "tags": []
   },
   "outputs": [
    {
     "data": {
      "text/plain": [
       "Index(['age', 'sex', 'cp', 'trestbps', 'chol', 'fbs', 'restecg', 'thalach',\n",
       "       'exang', 'oldpeak', 'slope', 'ca', 'thal', 'target'],\n",
       "      dtype='object')"
      ]
     },
     "execution_count": 13,
     "metadata": {},
     "output_type": "execute_result"
    }
   ],
   "source": [
    "dataset.columns"
   ]
  },
  {
   "cell_type": "markdown",
   "id": "e9d8b28d",
   "metadata": {
    "papermill": {
     "duration": 0.022891,
     "end_time": "2022-06-15T11:38:18.920692",
     "exception": false,
     "start_time": "2022-06-15T11:38:18.897801",
     "status": "completed"
    },
    "tags": []
   },
   "source": [
    "# Data Processing\n",
    "\n",
    "* To work with categorical variables, we should break each categorical column into dummy columns with 1s and 0s.\n",
    "\n",
    "* Let’s say we have a column Gender, with values 1 for Male and 0 for Female. It needs to be converted into two columns with the value 1 where the column would be true and 0 where it will be false. Take a look at the Gist below.\n",
    "\n",
    "* To work with categorical variables, we should break each categorical column into dummy columns with 1s and 0s.\n",
    "\n",
    "* Let’s say we have a column Gender, with values 1 for Male and 0 for Female. It needs to be converted into two columns with the value 1 where the column would be true and 0 where it will be false. Take a look at the Gist below."
   ]
  },
  {
   "cell_type": "markdown",
   "id": "ccf7ea22",
   "metadata": {
    "papermill": {
     "duration": 0.022729,
     "end_time": "2022-06-15T11:38:18.966445",
     "exception": false,
     "start_time": "2022-06-15T11:38:18.943716",
     "status": "completed"
    },
    "tags": []
   },
   "source": [
    "# Checking null values"
   ]
  },
  {
   "cell_type": "code",
   "execution_count": 14,
   "id": "0d5e868f",
   "metadata": {
    "execution": {
     "iopub.execute_input": "2022-06-15T11:38:19.015429Z",
     "iopub.status.busy": "2022-06-15T11:38:19.014478Z",
     "iopub.status.idle": "2022-06-15T11:38:19.024043Z",
     "shell.execute_reply": "2022-06-15T11:38:19.023265Z"
    },
    "papermill": {
     "duration": 0.036718,
     "end_time": "2022-06-15T11:38:19.026071",
     "exception": false,
     "start_time": "2022-06-15T11:38:18.989353",
     "status": "completed"
    },
    "tags": []
   },
   "outputs": [
    {
     "data": {
      "text/plain": [
       "age         0\n",
       "sex         0\n",
       "cp          0\n",
       "trestbps    0\n",
       "chol        0\n",
       "fbs         0\n",
       "restecg     0\n",
       "thalach     0\n",
       "exang       0\n",
       "oldpeak     0\n",
       "slope       0\n",
       "ca          0\n",
       "thal        0\n",
       "target      0\n",
       "dtype: int64"
      ]
     },
     "execution_count": 14,
     "metadata": {},
     "output_type": "execute_result"
    }
   ],
   "source": [
    "dataset.isnull().sum()"
   ]
  },
  {
   "cell_type": "markdown",
   "id": "927ef48e",
   "metadata": {
    "papermill": {
     "duration": 0.022329,
     "end_time": "2022-06-15T11:38:19.072953",
     "exception": false,
     "start_time": "2022-06-15T11:38:19.050624",
     "status": "completed"
    },
    "tags": []
   },
   "source": [
    "*There is no Null Values*"
   ]
  },
  {
   "cell_type": "code",
   "execution_count": 15,
   "id": "69285c47",
   "metadata": {
    "execution": {
     "iopub.execute_input": "2022-06-15T11:38:19.121230Z",
     "iopub.status.busy": "2022-06-15T11:38:19.120563Z",
     "iopub.status.idle": "2022-06-15T11:38:19.138600Z",
     "shell.execute_reply": "2022-06-15T11:38:19.137815Z"
    },
    "papermill": {
     "duration": 0.044269,
     "end_time": "2022-06-15T11:38:19.140949",
     "exception": false,
     "start_time": "2022-06-15T11:38:19.096680",
     "status": "completed"
    },
    "tags": []
   },
   "outputs": [],
   "source": [
    "dataset = pd.get_dummies(dataset, columns = ['sex', 'cp', 'fbs', 'restecg', 'exang', 'slope', 'ca', 'thal'])\n",
    "standardScaler = StandardScaler()\n",
    "columns_to_scale = ['age', 'trestbps', 'chol', 'thalach', 'oldpeak']\n",
    "dataset[columns_to_scale] = standardScaler.fit_transform(dataset[columns_to_scale])"
   ]
  },
  {
   "cell_type": "code",
   "execution_count": 16,
   "id": "dc9e05d8",
   "metadata": {
    "execution": {
     "iopub.execute_input": "2022-06-15T11:38:19.188493Z",
     "iopub.status.busy": "2022-06-15T11:38:19.187638Z",
     "iopub.status.idle": "2022-06-15T11:38:19.208524Z",
     "shell.execute_reply": "2022-06-15T11:38:19.207686Z"
    },
    "papermill": {
     "duration": 0.047078,
     "end_time": "2022-06-15T11:38:19.210827",
     "exception": false,
     "start_time": "2022-06-15T11:38:19.163749",
     "status": "completed"
    },
    "tags": []
   },
   "outputs": [
    {
     "data": {
      "text/html": [
       "<div>\n",
       "<style scoped>\n",
       "    .dataframe tbody tr th:only-of-type {\n",
       "        vertical-align: middle;\n",
       "    }\n",
       "\n",
       "    .dataframe tbody tr th {\n",
       "        vertical-align: top;\n",
       "    }\n",
       "\n",
       "    .dataframe thead th {\n",
       "        text-align: right;\n",
       "    }\n",
       "</style>\n",
       "<table border=\"1\" class=\"dataframe\">\n",
       "  <thead>\n",
       "    <tr style=\"text-align: right;\">\n",
       "      <th></th>\n",
       "      <th>age</th>\n",
       "      <th>trestbps</th>\n",
       "      <th>chol</th>\n",
       "      <th>thalach</th>\n",
       "      <th>oldpeak</th>\n",
       "      <th>target</th>\n",
       "      <th>sex_0</th>\n",
       "      <th>sex_1</th>\n",
       "      <th>cp_0</th>\n",
       "      <th>cp_1</th>\n",
       "      <th>...</th>\n",
       "      <th>slope_2</th>\n",
       "      <th>ca_0</th>\n",
       "      <th>ca_1</th>\n",
       "      <th>ca_2</th>\n",
       "      <th>ca_3</th>\n",
       "      <th>ca_4</th>\n",
       "      <th>thal_0</th>\n",
       "      <th>thal_1</th>\n",
       "      <th>thal_2</th>\n",
       "      <th>thal_3</th>\n",
       "    </tr>\n",
       "  </thead>\n",
       "  <tbody>\n",
       "    <tr>\n",
       "      <th>0</th>\n",
       "      <td>0.952197</td>\n",
       "      <td>0.763956</td>\n",
       "      <td>-0.256334</td>\n",
       "      <td>0.015443</td>\n",
       "      <td>1.087338</td>\n",
       "      <td>1</td>\n",
       "      <td>0</td>\n",
       "      <td>1</td>\n",
       "      <td>0</td>\n",
       "      <td>0</td>\n",
       "      <td>...</td>\n",
       "      <td>0</td>\n",
       "      <td>1</td>\n",
       "      <td>0</td>\n",
       "      <td>0</td>\n",
       "      <td>0</td>\n",
       "      <td>0</td>\n",
       "      <td>0</td>\n",
       "      <td>1</td>\n",
       "      <td>0</td>\n",
       "      <td>0</td>\n",
       "    </tr>\n",
       "    <tr>\n",
       "      <th>1</th>\n",
       "      <td>-1.915313</td>\n",
       "      <td>-0.092738</td>\n",
       "      <td>0.072199</td>\n",
       "      <td>1.633471</td>\n",
       "      <td>2.122573</td>\n",
       "      <td>1</td>\n",
       "      <td>0</td>\n",
       "      <td>1</td>\n",
       "      <td>0</td>\n",
       "      <td>0</td>\n",
       "      <td>...</td>\n",
       "      <td>0</td>\n",
       "      <td>1</td>\n",
       "      <td>0</td>\n",
       "      <td>0</td>\n",
       "      <td>0</td>\n",
       "      <td>0</td>\n",
       "      <td>0</td>\n",
       "      <td>0</td>\n",
       "      <td>1</td>\n",
       "      <td>0</td>\n",
       "    </tr>\n",
       "    <tr>\n",
       "      <th>2</th>\n",
       "      <td>-1.474158</td>\n",
       "      <td>-0.092738</td>\n",
       "      <td>-0.816773</td>\n",
       "      <td>0.977514</td>\n",
       "      <td>0.310912</td>\n",
       "      <td>1</td>\n",
       "      <td>1</td>\n",
       "      <td>0</td>\n",
       "      <td>0</td>\n",
       "      <td>1</td>\n",
       "      <td>...</td>\n",
       "      <td>1</td>\n",
       "      <td>1</td>\n",
       "      <td>0</td>\n",
       "      <td>0</td>\n",
       "      <td>0</td>\n",
       "      <td>0</td>\n",
       "      <td>0</td>\n",
       "      <td>0</td>\n",
       "      <td>1</td>\n",
       "      <td>0</td>\n",
       "    </tr>\n",
       "    <tr>\n",
       "      <th>3</th>\n",
       "      <td>0.180175</td>\n",
       "      <td>-0.663867</td>\n",
       "      <td>-0.198357</td>\n",
       "      <td>1.239897</td>\n",
       "      <td>-0.206705</td>\n",
       "      <td>1</td>\n",
       "      <td>0</td>\n",
       "      <td>1</td>\n",
       "      <td>0</td>\n",
       "      <td>1</td>\n",
       "      <td>...</td>\n",
       "      <td>1</td>\n",
       "      <td>1</td>\n",
       "      <td>0</td>\n",
       "      <td>0</td>\n",
       "      <td>0</td>\n",
       "      <td>0</td>\n",
       "      <td>0</td>\n",
       "      <td>0</td>\n",
       "      <td>1</td>\n",
       "      <td>0</td>\n",
       "    </tr>\n",
       "    <tr>\n",
       "      <th>4</th>\n",
       "      <td>0.290464</td>\n",
       "      <td>-0.663867</td>\n",
       "      <td>2.082050</td>\n",
       "      <td>0.583939</td>\n",
       "      <td>-0.379244</td>\n",
       "      <td>1</td>\n",
       "      <td>1</td>\n",
       "      <td>0</td>\n",
       "      <td>1</td>\n",
       "      <td>0</td>\n",
       "      <td>...</td>\n",
       "      <td>1</td>\n",
       "      <td>1</td>\n",
       "      <td>0</td>\n",
       "      <td>0</td>\n",
       "      <td>0</td>\n",
       "      <td>0</td>\n",
       "      <td>0</td>\n",
       "      <td>0</td>\n",
       "      <td>1</td>\n",
       "      <td>0</td>\n",
       "    </tr>\n",
       "  </tbody>\n",
       "</table>\n",
       "<p>5 rows × 31 columns</p>\n",
       "</div>"
      ],
      "text/plain": [
       "        age  trestbps      chol   thalach   oldpeak  target  sex_0  sex_1  \\\n",
       "0  0.952197  0.763956 -0.256334  0.015443  1.087338       1      0      1   \n",
       "1 -1.915313 -0.092738  0.072199  1.633471  2.122573       1      0      1   \n",
       "2 -1.474158 -0.092738 -0.816773  0.977514  0.310912       1      1      0   \n",
       "3  0.180175 -0.663867 -0.198357  1.239897 -0.206705       1      0      1   \n",
       "4  0.290464 -0.663867  2.082050  0.583939 -0.379244       1      1      0   \n",
       "\n",
       "   cp_0  cp_1  ...  slope_2  ca_0  ca_1  ca_2  ca_3  ca_4  thal_0  thal_1  \\\n",
       "0     0     0  ...        0     1     0     0     0     0       0       1   \n",
       "1     0     0  ...        0     1     0     0     0     0       0       0   \n",
       "2     0     1  ...        1     1     0     0     0     0       0       0   \n",
       "3     0     1  ...        1     1     0     0     0     0       0       0   \n",
       "4     1     0  ...        1     1     0     0     0     0       0       0   \n",
       "\n",
       "   thal_2  thal_3  \n",
       "0       0       0  \n",
       "1       1       0  \n",
       "2       1       0  \n",
       "3       1       0  \n",
       "4       1       0  \n",
       "\n",
       "[5 rows x 31 columns]"
      ]
     },
     "execution_count": 16,
     "metadata": {},
     "output_type": "execute_result"
    }
   ],
   "source": [
    "dataset.head()"
   ]
  },
  {
   "cell_type": "markdown",
   "id": "65d96a02",
   "metadata": {
    "papermill": {
     "duration": 0.022937,
     "end_time": "2022-06-15T11:38:19.256805",
     "exception": false,
     "start_time": "2022-06-15T11:38:19.233868",
     "status": "completed"
    },
    "tags": []
   },
   "source": [
    "# Splitting Data into Train Test"
   ]
  },
  {
   "cell_type": "code",
   "execution_count": 17,
   "id": "8c80406d",
   "metadata": {
    "execution": {
     "iopub.execute_input": "2022-06-15T11:38:19.306192Z",
     "iopub.status.busy": "2022-06-15T11:38:19.305550Z",
     "iopub.status.idle": "2022-06-15T11:38:19.313410Z",
     "shell.execute_reply": "2022-06-15T11:38:19.312719Z"
    },
    "papermill": {
     "duration": 0.034935,
     "end_time": "2022-06-15T11:38:19.315509",
     "exception": false,
     "start_time": "2022-06-15T11:38:19.280574",
     "status": "completed"
    },
    "tags": []
   },
   "outputs": [],
   "source": [
    "y = dataset['target']\n",
    "X = dataset.drop(['target'], axis = 1)\n",
    "X_train, X_test, y_train, y_test = train_test_split(X, y, test_size = 0.2, random_state = 42, shuffle=True)"
   ]
  },
  {
   "cell_type": "markdown",
   "id": "8eb55eaa",
   "metadata": {
    "papermill": {
     "duration": 0.022917,
     "end_time": "2022-06-15T11:38:19.361512",
     "exception": false,
     "start_time": "2022-06-15T11:38:19.338595",
     "status": "completed"
    },
    "tags": []
   },
   "source": [
    "# Checking Noise in Data using Isolation Forest Algorithm"
   ]
  },
  {
   "cell_type": "code",
   "execution_count": 18,
   "id": "faad1d61",
   "metadata": {
    "execution": {
     "iopub.execute_input": "2022-06-15T11:38:19.410606Z",
     "iopub.status.busy": "2022-06-15T11:38:19.409927Z",
     "iopub.status.idle": "2022-06-15T11:38:19.414897Z",
     "shell.execute_reply": "2022-06-15T11:38:19.414004Z"
    },
    "papermill": {
     "duration": 0.031867,
     "end_time": "2022-06-15T11:38:19.417194",
     "exception": false,
     "start_time": "2022-06-15T11:38:19.385327",
     "status": "completed"
    },
    "tags": []
   },
   "outputs": [],
   "source": [
    "from sklearn.ensemble import IsolationForest\n",
    "from sklearn.model_selection import GridSearchCV\n",
    "from sklearn.model_selection import cross_val_score"
   ]
  },
  {
   "cell_type": "code",
   "execution_count": 19,
   "id": "0d6eb292",
   "metadata": {
    "execution": {
     "iopub.execute_input": "2022-06-15T11:38:19.466190Z",
     "iopub.status.busy": "2022-06-15T11:38:19.465774Z",
     "iopub.status.idle": "2022-06-15T11:38:19.470430Z",
     "shell.execute_reply": "2022-06-15T11:38:19.469736Z"
    },
    "papermill": {
     "duration": 0.03191,
     "end_time": "2022-06-15T11:38:19.472456",
     "exception": false,
     "start_time": "2022-06-15T11:38:19.440546",
     "status": "completed"
    },
    "tags": []
   },
   "outputs": [],
   "source": [
    "# Tune the Isolation Forest Model\n",
    "#model = IsolationForest(random_state = 47)\n",
    "\n",
    "#param_grid = {'n_estimators':[1000, 1500],\n",
    "#              'max_samples': [10],\n",
    " #             'contamination': ['auto', 0.0001, 0.0002],\n",
    "  #            'max_features': [10, 15],\n",
    "   #           'bootstrap': [True],\n",
    "    #          'n_jobs': [-1]\n",
    "     #        }\n",
    "\n",
    "#grid_search = GridSearchCV(model,\n",
    " #                          param_grid,\n",
    "  #                         scoring='accuracy',\n",
    "   #                        refit = True,\n",
    "    #                       cv = 10,\n",
    "     #                      return_train_score = True\n",
    "      #                    )\n",
    "\n",
    "#grid_search.fit(X_train, y_train)\n",
    "\n",
    "#best_model = grid_search.fit(X_train, y_train)\n",
    "#print('Optimum parameters', best_model.best_params_)"
   ]
  },
  {
   "cell_type": "markdown",
   "id": "f31f7e2f",
   "metadata": {
    "papermill": {
     "duration": 0.024187,
     "end_time": "2022-06-15T11:38:19.520378",
     "exception": false,
     "start_time": "2022-06-15T11:38:19.496191",
     "status": "completed"
    },
    "tags": []
   },
   "source": [
    "*Gained output from the Isolation Forest. It takes some time to run. So, saving the values*\n",
    "\n",
    "bootstrap= True, \n",
    "                          contamination= 0.0001, \n",
    "                          max_features= 10, \n",
    "                          max_samples= 10, \n",
    "                          n_estimators= 1000, \n",
    "                          n_jobs= -1"
   ]
  },
  {
   "cell_type": "code",
   "execution_count": 20,
   "id": "1877180f",
   "metadata": {
    "execution": {
     "iopub.execute_input": "2022-06-15T11:38:19.574346Z",
     "iopub.status.busy": "2022-06-15T11:38:19.573622Z",
     "iopub.status.idle": "2022-06-15T11:38:23.315758Z",
     "shell.execute_reply": "2022-06-15T11:38:23.314484Z"
    },
    "papermill": {
     "duration": 3.770079,
     "end_time": "2022-06-15T11:38:23.318468",
     "exception": false,
     "start_time": "2022-06-15T11:38:19.548389",
     "status": "completed"
    },
    "tags": []
   },
   "outputs": [],
   "source": [
    "# Run the tuned Isolation Frest model\n",
    "iforest = IsolationForest(bootstrap= True, \n",
    "                          contamination= 0.0001, \n",
    "                          max_features= 10, \n",
    "                          max_samples= 10, \n",
    "                          n_estimators= 1000, \n",
    "                          n_jobs= -1,\n",
    "                          random_state=1\n",
    "                         )\n",
    "\n",
    "y_pred = iforest.fit_predict(X_train)"
   ]
  },
  {
   "cell_type": "code",
   "execution_count": 21,
   "id": "e2dc08a0",
   "metadata": {
    "execution": {
     "iopub.execute_input": "2022-06-15T11:38:23.366673Z",
     "iopub.status.busy": "2022-06-15T11:38:23.366261Z",
     "iopub.status.idle": "2022-06-15T11:38:23.372445Z",
     "shell.execute_reply": "2022-06-15T11:38:23.371729Z"
    },
    "papermill": {
     "duration": 0.032521,
     "end_time": "2022-06-15T11:38:23.374626",
     "exception": false,
     "start_time": "2022-06-15T11:38:23.342105",
     "status": "completed"
    },
    "tags": []
   },
   "outputs": [
    {
     "data": {
      "text/plain": [
       "array([ 1,  1,  1,  1,  1,  1,  1,  1,  1,  1,  1,  1,  1,  1,  1,  1,  1,\n",
       "        1,  1,  1,  1,  1,  1,  1,  1,  1,  1,  1,  1,  1,  1,  1,  1,  1,\n",
       "        1,  1,  1,  1,  1,  1,  1,  1,  1,  1,  1,  1,  1,  1,  1,  1,  1,\n",
       "        1,  1,  1,  1,  1,  1,  1,  1,  1,  1,  1,  1,  1,  1,  1,  1,  1,\n",
       "        1,  1,  1,  1,  1,  1,  1,  1,  1,  1,  1,  1,  1,  1,  1,  1,  1,\n",
       "        1,  1,  1,  1,  1,  1,  1,  1,  1,  1,  1,  1,  1,  1,  1,  1,  1,\n",
       "        1,  1,  1,  1,  1,  1,  1,  1,  1,  1,  1,  1,  1,  1,  1,  1,  1,\n",
       "        1,  1,  1,  1,  1,  1,  1,  1,  1,  1,  1,  1,  1,  1,  1,  1,  1,\n",
       "        1,  1,  1,  1,  1,  1,  1,  1,  1,  1,  1,  1,  1,  1,  1,  1,  1,\n",
       "        1,  1,  1,  1,  1,  1,  1,  1,  1,  1,  1,  1,  1,  1,  1,  1,  1,\n",
       "        1,  1,  1,  1,  1,  1,  1, -1,  1,  1,  1,  1,  1,  1,  1,  1,  1,\n",
       "        1,  1,  1,  1,  1,  1,  1,  1,  1,  1,  1,  1,  1,  1,  1,  1,  1,\n",
       "        1,  1,  1,  1,  1,  1,  1,  1,  1,  1,  1,  1,  1,  1,  1,  1,  1,\n",
       "        1,  1,  1,  1,  1,  1,  1,  1,  1,  1,  1,  1,  1,  1,  1,  1,  1,\n",
       "        1,  1,  1,  1])"
      ]
     },
     "execution_count": 21,
     "metadata": {},
     "output_type": "execute_result"
    }
   ],
   "source": [
    "y_pred"
   ]
  },
  {
   "cell_type": "code",
   "execution_count": 22,
   "id": "02da571b",
   "metadata": {
    "execution": {
     "iopub.execute_input": "2022-06-15T11:38:23.431617Z",
     "iopub.status.busy": "2022-06-15T11:38:23.431064Z",
     "iopub.status.idle": "2022-06-15T11:38:23.436896Z",
     "shell.execute_reply": "2022-06-15T11:38:23.435896Z"
    },
    "papermill": {
     "duration": 0.037081,
     "end_time": "2022-06-15T11:38:23.438889",
     "exception": false,
     "start_time": "2022-06-15T11:38:23.401808",
     "status": "completed"
    },
    "tags": []
   },
   "outputs": [
    {
     "data": {
      "text/plain": [
       "(array([177]),)"
      ]
     },
     "execution_count": 22,
     "metadata": {},
     "output_type": "execute_result"
    }
   ],
   "source": [
    "np.where(y_pred==-1)"
   ]
  },
  {
   "cell_type": "code",
   "execution_count": 23,
   "id": "0df2473b",
   "metadata": {
    "execution": {
     "iopub.execute_input": "2022-06-15T11:38:23.489125Z",
     "iopub.status.busy": "2022-06-15T11:38:23.488710Z",
     "iopub.status.idle": "2022-06-15T11:38:23.495832Z",
     "shell.execute_reply": "2022-06-15T11:38:23.494924Z"
    },
    "papermill": {
     "duration": 0.034693,
     "end_time": "2022-06-15T11:38:23.497987",
     "exception": false,
     "start_time": "2022-06-15T11:38:23.463294",
     "status": "completed"
    },
    "tags": []
   },
   "outputs": [],
   "source": [
    "X_train = X_train.drop([X_train.index[177]])\n",
    "y_train = y_train.drop([y_train.index[177]])"
   ]
  },
  {
   "cell_type": "markdown",
   "id": "a9e2cef0",
   "metadata": {
    "papermill": {
     "duration": 0.022939,
     "end_time": "2022-06-15T11:38:23.558413",
     "exception": false,
     "start_time": "2022-06-15T11:38:23.535474",
     "status": "completed"
    },
    "tags": []
   },
   "source": [
    "# Machine Learning\n",
    "\n",
    "*In this project, I took 4 algorithms and varied their various parameters and compared the final models. I split the dataset into 80% training data and 20% testing data.*"
   ]
  },
  {
   "cell_type": "markdown",
   "id": "97a2588c",
   "metadata": {
    "papermill": {
     "duration": 0.023343,
     "end_time": "2022-06-15T11:38:23.604835",
     "exception": false,
     "start_time": "2022-06-15T11:38:23.581492",
     "status": "completed"
    },
    "tags": []
   },
   "source": [
    "**K Neighbors Classifier**\n",
    "\n",
    "*This classifier looks for the classes of K nearest neighbors of a given data point and based on the majority class, it assigns a class to this data point. However, the number of neighbors can be varied. I varied them from 1 to 20 neighbors and calculated the test score in each case.*"
   ]
  },
  {
   "cell_type": "code",
   "execution_count": 24,
   "id": "d5337a05",
   "metadata": {
    "execution": {
     "iopub.execute_input": "2022-06-15T11:38:23.653303Z",
     "iopub.status.busy": "2022-06-15T11:38:23.652195Z",
     "iopub.status.idle": "2022-06-15T11:38:23.892142Z",
     "shell.execute_reply": "2022-06-15T11:38:23.891002Z"
    },
    "papermill": {
     "duration": 0.267605,
     "end_time": "2022-06-15T11:38:23.895596",
     "exception": false,
     "start_time": "2022-06-15T11:38:23.627991",
     "status": "completed"
    },
    "tags": []
   },
   "outputs": [],
   "source": [
    "knn_scores = []\n",
    "for k in range(1,21):\n",
    "    knn_classifier = KNeighborsClassifier(n_neighbors = k)\n",
    "    knn_classifier.fit(X_train, y_train)\n",
    "    knn_scores.append(knn_classifier.score(X_test, y_test))"
   ]
  },
  {
   "cell_type": "markdown",
   "id": "01792ddb",
   "metadata": {
    "papermill": {
     "duration": 0.043693,
     "end_time": "2022-06-15T11:38:23.984198",
     "exception": false,
     "start_time": "2022-06-15T11:38:23.940505",
     "status": "completed"
    },
    "tags": []
   },
   "source": [
    "*Plot a line graph of the number of neighbors and the test score achieved in each case.*"
   ]
  },
  {
   "cell_type": "code",
   "execution_count": 25,
   "id": "6bd004c8",
   "metadata": {
    "execution": {
     "iopub.execute_input": "2022-06-15T11:38:24.043528Z",
     "iopub.status.busy": "2022-06-15T11:38:24.043110Z",
     "iopub.status.idle": "2022-06-15T11:38:24.412612Z",
     "shell.execute_reply": "2022-06-15T11:38:24.411645Z"
    },
    "papermill": {
     "duration": 0.397357,
     "end_time": "2022-06-15T11:38:24.415070",
     "exception": false,
     "start_time": "2022-06-15T11:38:24.017713",
     "status": "completed"
    },
    "tags": []
   },
   "outputs": [
    {
     "data": {
      "text/plain": [
       "Text(0.5, 1.0, 'K Neighbors Classifier scores for different K values')"
      ]
     },
     "execution_count": 25,
     "metadata": {},
     "output_type": "execute_result"
    },
    {
     "data": {
      "image/png": "[encoded data removed]",
      "text/plain": [
       "<Figure size 1800x720 with 1 Axes>"
      ]
     },
     "metadata": {
      "needs_background": "light"
     },
     "output_type": "display_data"
    }
   ],
   "source": [
    "plt.figure(figsize=(25,10))\n",
    "plt.plot([k for k in range(1, 21)], knn_scores, color = 'red')\n",
    "for i in range(1,21):\n",
    "    plt.text(i, knn_scores[i-1], (i, round(knn_scores[i-1],4)))\n",
    "plt.xticks([i for i in range(1, 21)])\n",
    "plt.xlabel('Number of Neighbors (K)')\n",
    "plt.ylabel('Scores')\n",
    "plt.title('K Neighbors Classifier scores for different K values')"
   ]
  },
  {
   "cell_type": "markdown",
   "id": "6cf06aff",
   "metadata": {
    "papermill": {
     "duration": 0.024429,
     "end_time": "2022-06-15T11:38:24.464707",
     "exception": false,
     "start_time": "2022-06-15T11:38:24.440278",
     "status": "completed"
    },
    "tags": []
   },
   "source": [
    "As you can see, we achieved the maximum score of 91.8% when the number of neighbors was chosen to be 8."
   ]
  },
  {
   "cell_type": "markdown",
   "id": "41d122d9",
   "metadata": {
    "papermill": {
     "duration": 0.024948,
     "end_time": "2022-06-15T11:38:24.514836",
     "exception": false,
     "start_time": "2022-06-15T11:38:24.489888",
     "status": "completed"
    },
    "tags": []
   },
   "source": [
    "# Cross Validating Best Model"
   ]
  },
  {
   "cell_type": "code",
   "execution_count": 26,
   "id": "a42c37d1",
   "metadata": {
    "execution": {
     "iopub.execute_input": "2022-06-15T11:38:24.565860Z",
     "iopub.status.busy": "2022-06-15T11:38:24.565431Z",
     "iopub.status.idle": "2022-06-15T11:38:24.641743Z",
     "shell.execute_reply": "2022-06-15T11:38:24.640836Z"
    },
    "papermill": {
     "duration": 0.104965,
     "end_time": "2022-06-15T11:38:24.644502",
     "exception": false,
     "start_time": "2022-06-15T11:38:24.539537",
     "status": "completed"
    },
    "tags": []
   },
   "outputs": [
    {
     "data": {
      "text/plain": [
       "array([0.75510204, 0.85416667, 0.8125    , 0.8125    , 0.85416667])"
      ]
     },
     "execution_count": 26,
     "metadata": {},
     "output_type": "execute_result"
    }
   ],
   "source": [
    "from sklearn.model_selection import cross_val_score\n",
    "\n",
    "knn_classifier = KNeighborsClassifier(n_neighbors = 8)\n",
    "\n",
    "knn_classifier.fit(X_train, y_train)\n",
    "cross_val_score(knn_classifier, X_train, y_train, cv=5)"
   ]
  },
  {
   "cell_type": "markdown",
   "id": "16ba2000",
   "metadata": {
    "papermill": {
     "duration": 0.045235,
     "end_time": "2022-06-15T11:38:24.734913",
     "exception": false,
     "start_time": "2022-06-15T11:38:24.689678",
     "status": "completed"
    },
    "tags": []
   },
   "source": [
    "# Gaining all metric value for test"
   ]
  },
  {
   "cell_type": "code",
   "execution_count": 27,
   "id": "961e6b4c",
   "metadata": {
    "execution": {
     "iopub.execute_input": "2022-06-15T11:38:24.795207Z",
     "iopub.status.busy": "2022-06-15T11:38:24.794706Z",
     "iopub.status.idle": "2022-06-15T11:38:24.811292Z",
     "shell.execute_reply": "2022-06-15T11:38:24.810039Z"
    },
    "papermill": {
     "duration": 0.046279,
     "end_time": "2022-06-15T11:38:24.814684",
     "exception": false,
     "start_time": "2022-06-15T11:38:24.768405",
     "status": "completed"
    },
    "tags": []
   },
   "outputs": [
    {
     "name": "stdout",
     "output_type": "stream",
     "text": [
      "              precision    recall  f1-score   support\n",
      "\n",
      "           0       0.90      0.93      0.92        29\n",
      "           1       0.94      0.91      0.92        32\n",
      "\n",
      "    accuracy                           0.92        61\n",
      "   macro avg       0.92      0.92      0.92        61\n",
      "weighted avg       0.92      0.92      0.92        61\n",
      "\n"
     ]
    }
   ],
   "source": [
    "from sklearn.metrics import classification_report\n",
    "\n",
    "y_pred = knn_classifier.predict(X_test)\n",
    "\n",
    "print(classification_report(y_test, y_pred))"
   ]
  },
  {
   "cell_type": "markdown",
   "id": "1eaf86d3",
   "metadata": {
    "papermill": {
     "duration": 0.044773,
     "end_time": "2022-06-15T11:38:24.904909",
     "exception": false,
     "start_time": "2022-06-15T11:38:24.860136",
     "status": "completed"
    },
    "tags": []
   },
   "source": [
    "# Saving the best model"
   ]
  },
  {
   "cell_type": "code",
   "execution_count": 28,
   "id": "d7655334",
   "metadata": {
    "execution": {
     "iopub.execute_input": "2022-06-15T11:38:24.965355Z",
     "iopub.status.busy": "2022-06-15T11:38:24.964957Z",
     "iopub.status.idle": "2022-06-15T11:38:24.974236Z",
     "shell.execute_reply": "2022-06-15T11:38:24.973167Z"
    },
    "papermill": {
     "duration": 0.037989,
     "end_time": "2022-06-15T11:38:24.976564",
     "exception": false,
     "start_time": "2022-06-15T11:38:24.938575",
     "status": "completed"
    },
    "tags": []
   },
   "outputs": [],
   "source": [
    "import pickle\n",
    "\n",
    "knn_classifier = KNeighborsClassifier(n_neighbors = 8)\n",
    "knn_classifier.fit(X_train, y_train)\n",
    "\n",
    "#Save model\n",
    "filename = 'knn.pkl'\n",
    "pickle.dump(knn_classifier, open(filename, 'wb'))"
   ]
  },
  {
   "cell_type": "code",
   "execution_count": 29,
   "id": "58b4ae9c",
   "metadata": {
    "execution": {
     "iopub.execute_input": "2022-06-15T11:38:25.028516Z",
     "iopub.status.busy": "2022-06-15T11:38:25.027880Z",
     "iopub.status.idle": "2022-06-15T11:38:25.032224Z",
     "shell.execute_reply": "2022-06-15T11:38:25.031517Z"
    },
    "papermill": {
     "duration": 0.032033,
     "end_time": "2022-06-15T11:38:25.034062",
     "exception": false,
     "start_time": "2022-06-15T11:38:25.002029",
     "status": "completed"
    },
    "tags": []
   },
   "outputs": [],
   "source": [
    "#List Hyperparameters that we want to tune.\n",
    "#leaf_size = list(range(1,50))\n",
    "#n_neighbors = list(range(1,30))\n",
    "#p=[1,2]#Convert to dictionary\n",
    "\n",
    "#hyperparameters = dict(leaf_size=leaf_size, n_neighbors=n_neighbors, p=p)#Create new KNN object\n",
    "\n",
    "#knn_2 = KNeighborsClassifier()#Use GridSearch\n",
    "\n",
    "#clf = GridSearchCV(knn_2, hyperparameters, cv=10)#Fit the model\n",
    "#best_model = clf.fit(X_train, y_train)#Print The value of best Hyperparameters\n",
    "\n",
    "#print('Best leaf_size:', best_model.best_estimator_.get_params()['leaf_size'])\n",
    "#print('Best p:', best_model.best_estimator_.get_params()['p'])\n",
    "#print('Best n_neighbors:', best_model.best_estimator_.get_params()['n_neighbors'])"
   ]
  },
  {
   "cell_type": "markdown",
   "id": "b7c2addb",
   "metadata": {
    "papermill": {
     "duration": 0.025089,
     "end_time": "2022-06-15T11:38:25.084793",
     "exception": false,
     "start_time": "2022-06-15T11:38:25.059704",
     "status": "completed"
    },
    "tags": []
   },
   "source": [
    "* Best leaf_size: 1\n",
    "* Best p: 1\n",
    "* Best n_neighbors: 11"
   ]
  },
  {
   "cell_type": "code",
   "execution_count": 30,
   "id": "8b25b353",
   "metadata": {
    "execution": {
     "iopub.execute_input": "2022-06-15T11:38:25.136098Z",
     "iopub.status.busy": "2022-06-15T11:38:25.135548Z",
     "iopub.status.idle": "2022-06-15T11:38:25.149622Z",
     "shell.execute_reply": "2022-06-15T11:38:25.148766Z"
    },
    "papermill": {
     "duration": 0.042516,
     "end_time": "2022-06-15T11:38:25.151959",
     "exception": false,
     "start_time": "2022-06-15T11:38:25.109443",
     "status": "completed"
    },
    "tags": []
   },
   "outputs": [
    {
     "data": {
      "text/plain": [
       "0.8852459016393442"
      ]
     },
     "execution_count": 30,
     "metadata": {},
     "output_type": "execute_result"
    }
   ],
   "source": [
    "knn_classifier = KNeighborsClassifier(leaf_size=1, p=1, n_neighbors=11)\n",
    "knn_classifier.fit(X_train, y_train)\n",
    "\n",
    "knn_classifier.score(X_test, y_test)"
   ]
  },
  {
   "cell_type": "code",
   "execution_count": 31,
   "id": "42e4cef7",
   "metadata": {
    "execution": {
     "iopub.execute_input": "2022-06-15T11:38:25.203312Z",
     "iopub.status.busy": "2022-06-15T11:38:25.202751Z",
     "iopub.status.idle": "2022-06-15T11:38:25.273264Z",
     "shell.execute_reply": "2022-06-15T11:38:25.272321Z"
    },
    "papermill": {
     "duration": 0.098946,
     "end_time": "2022-06-15T11:38:25.275723",
     "exception": false,
     "start_time": "2022-06-15T11:38:25.176777",
     "status": "completed"
    },
    "tags": []
   },
   "outputs": [
    {
     "data": {
      "text/plain": [
       "array([0.8       , 0.83333333, 0.95833333, 0.79166667, 0.83333333,\n",
       "       0.70833333, 0.875     , 0.875     , 0.91666667, 0.83333333])"
      ]
     },
     "execution_count": 31,
     "metadata": {},
     "output_type": "execute_result"
    }
   ],
   "source": [
    "cross_val_score(knn_classifier, X_train, y_train, cv=10)"
   ]
  },
  {
   "cell_type": "code",
   "execution_count": 32,
   "id": "9454bde6",
   "metadata": {
    "execution": {
     "iopub.execute_input": "2022-06-15T11:38:25.328014Z",
     "iopub.status.busy": "2022-06-15T11:38:25.327595Z",
     "iopub.status.idle": "2022-06-15T11:38:25.343812Z",
     "shell.execute_reply": "2022-06-15T11:38:25.342588Z"
    },
    "papermill": {
     "duration": 0.045904,
     "end_time": "2022-06-15T11:38:25.347283",
     "exception": false,
     "start_time": "2022-06-15T11:38:25.301379",
     "status": "completed"
    },
    "tags": []
   },
   "outputs": [
    {
     "name": "stdout",
     "output_type": "stream",
     "text": [
      "              precision    recall  f1-score   support\n",
      "\n",
      "           0       0.89      0.86      0.88        29\n",
      "           1       0.88      0.91      0.89        32\n",
      "\n",
      "    accuracy                           0.89        61\n",
      "   macro avg       0.89      0.88      0.88        61\n",
      "weighted avg       0.89      0.89      0.89        61\n",
      "\n"
     ]
    }
   ],
   "source": [
    "y_pred = knn_classifier.predict(X_test)\n",
    "\n",
    "print(classification_report(y_test, y_pred))"
   ]
  },
  {
   "cell_type": "markdown",
   "id": "22f22130",
   "metadata": {
    "papermill": {
     "duration": 0.025199,
     "end_time": "2022-06-15T11:38:25.398359",
     "exception": false,
     "start_time": "2022-06-15T11:38:25.373160",
     "status": "completed"
    },
    "tags": []
   },
   "source": [
    "# Support Vector Classifier\n",
    "\n",
    "*This classifier aims at forming a hyperplane that can separate the classes as much as possible by adjusting the distance between the data points and the hyperplane. There are several kernels based on which the hyperplane is decided. I tried four kernels namely, linear, poly, rbf, and sigmoid.*"
   ]
  },
  {
   "cell_type": "code",
   "execution_count": 33,
   "id": "39c77210",
   "metadata": {
    "execution": {
     "iopub.execute_input": "2022-06-15T11:38:25.450646Z",
     "iopub.status.busy": "2022-06-15T11:38:25.450236Z",
     "iopub.status.idle": "2022-06-15T11:38:25.490772Z",
     "shell.execute_reply": "2022-06-15T11:38:25.489835Z"
    },
    "papermill": {
     "duration": 0.069606,
     "end_time": "2022-06-15T11:38:25.493066",
     "exception": false,
     "start_time": "2022-06-15T11:38:25.423460",
     "status": "completed"
    },
    "tags": []
   },
   "outputs": [],
   "source": [
    "svc_scores = []\n",
    "kernels = ['linear', 'poly', 'rbf', 'sigmoid']\n",
    "for i in range(len(kernels)):\n",
    "    svc_classifier = SVC(kernel = kernels[i])\n",
    "    svc_classifier.fit(X_train, y_train)\n",
    "    svc_scores.append(svc_classifier.score(X_test, y_test))"
   ]
  },
  {
   "cell_type": "markdown",
   "id": "0784b8cd",
   "metadata": {
    "papermill": {
     "duration": 0.024774,
     "end_time": "2022-06-15T11:38:25.542694",
     "exception": false,
     "start_time": "2022-06-15T11:38:25.517920",
     "status": "completed"
    },
    "tags": []
   },
   "source": [
    "*I used the rainbow method to select different colors for each bar and plot a bar graph of the scores achieved by each.*"
   ]
  },
  {
   "cell_type": "code",
   "execution_count": 34,
   "id": "70669dd2",
   "metadata": {
    "execution": {
     "iopub.execute_input": "2022-06-15T11:38:25.594769Z",
     "iopub.status.busy": "2022-06-15T11:38:25.593764Z",
     "iopub.status.idle": "2022-06-15T11:38:25.774371Z",
     "shell.execute_reply": "2022-06-15T11:38:25.773290Z"
    },
    "papermill": {
     "duration": 0.208902,
     "end_time": "2022-06-15T11:38:25.776628",
     "exception": false,
     "start_time": "2022-06-15T11:38:25.567726",
     "status": "completed"
    },
    "tags": []
   },
   "outputs": [
    {
     "data": {
      "text/plain": [
       "Text(0.5, 1.0, 'Support Vector Classifier scores for different kernels')"
      ]
     },
     "execution_count": 34,
     "metadata": {},
     "output_type": "execute_result"
    },
    {
     "data": {
      "image/png": "[encoded data removed]",
      "text/plain": [
       "<Figure size 576x432 with 1 Axes>"
      ]
     },
     "metadata": {
      "needs_background": "light"
     },
     "output_type": "display_data"
    }
   ],
   "source": [
    "colors = rainbow(np.linspace(0, 1, len(kernels)))\n",
    "plt.bar(kernels, svc_scores, color = colors)\n",
    "for i in range(len(kernels)):\n",
    "    plt.text(i, svc_scores[i], round(svc_scores[i],4))\n",
    "plt.xlabel('Kernels')\n",
    "plt.ylabel('Scores')\n",
    "plt.title('Support Vector Classifier scores for different kernels')"
   ]
  },
  {
   "cell_type": "markdown",
   "id": "5208bf10",
   "metadata": {
    "papermill": {
     "duration": 0.025875,
     "end_time": "2022-06-15T11:38:25.827927",
     "exception": false,
     "start_time": "2022-06-15T11:38:25.802052",
     "status": "completed"
    },
    "tags": []
   },
   "source": [
    "*As can be seen from the plot above, the rbf kernel performed the best for this dataset and achieved a score of 90.16%.*"
   ]
  },
  {
   "cell_type": "markdown",
   "id": "0aed0172",
   "metadata": {
    "papermill": {
     "duration": 0.025573,
     "end_time": "2022-06-15T11:38:25.878914",
     "exception": false,
     "start_time": "2022-06-15T11:38:25.853341",
     "status": "completed"
    },
    "tags": []
   },
   "source": [
    "# Cross Validating Best Model"
   ]
  },
  {
   "cell_type": "code",
   "execution_count": 35,
   "id": "ffeaef36",
   "metadata": {
    "execution": {
     "iopub.execute_input": "2022-06-15T11:38:25.932168Z",
     "iopub.status.busy": "2022-06-15T11:38:25.931803Z",
     "iopub.status.idle": "2022-06-15T11:38:26.032902Z",
     "shell.execute_reply": "2022-06-15T11:38:26.032178Z"
    },
    "papermill": {
     "duration": 0.131124,
     "end_time": "2022-06-15T11:38:26.035300",
     "exception": false,
     "start_time": "2022-06-15T11:38:25.904176",
     "status": "completed"
    },
    "tags": []
   },
   "outputs": [
    {
     "data": {
      "text/plain": [
       "array([0.84      , 0.875     , 0.91666667, 0.75      , 0.79166667,\n",
       "       0.66666667, 0.79166667, 0.83333333, 0.75      , 0.83333333])"
      ]
     },
     "execution_count": 35,
     "metadata": {},
     "output_type": "execute_result"
    }
   ],
   "source": [
    "from sklearn.model_selection import cross_val_score\n",
    "\n",
    "svc_classifier = SVC(kernel = 'rbf')\n",
    "\n",
    "svc_classifier.fit(X_train, y_train)\n",
    "cross_val_score(svc_classifier, X_train, y_train, cv=10)"
   ]
  },
  {
   "cell_type": "markdown",
   "id": "c17238f1",
   "metadata": {
    "papermill": {
     "duration": 0.025755,
     "end_time": "2022-06-15T11:38:26.090837",
     "exception": false,
     "start_time": "2022-06-15T11:38:26.065082",
     "status": "completed"
    },
    "tags": []
   },
   "source": [
    "# Gaining all metric value for test"
   ]
  },
  {
   "cell_type": "code",
   "execution_count": 36,
   "id": "12834330",
   "metadata": {
    "execution": {
     "iopub.execute_input": "2022-06-15T11:38:26.143873Z",
     "iopub.status.busy": "2022-06-15T11:38:26.143181Z",
     "iopub.status.idle": "2022-06-15T11:38:26.156107Z",
     "shell.execute_reply": "2022-06-15T11:38:26.154986Z"
    },
    "papermill": {
     "duration": 0.042169,
     "end_time": "2022-06-15T11:38:26.158529",
     "exception": false,
     "start_time": "2022-06-15T11:38:26.116360",
     "status": "completed"
    },
    "tags": []
   },
   "outputs": [
    {
     "name": "stdout",
     "output_type": "stream",
     "text": [
      "              precision    recall  f1-score   support\n",
      "\n",
      "           0       0.87      0.93      0.90        29\n",
      "           1       0.93      0.88      0.90        32\n",
      "\n",
      "    accuracy                           0.90        61\n",
      "   macro avg       0.90      0.90      0.90        61\n",
      "weighted avg       0.90      0.90      0.90        61\n",
      "\n"
     ]
    }
   ],
   "source": [
    "from sklearn.metrics import classification_report\n",
    "\n",
    "y_pred = svc_classifier.predict(X_test)\n",
    "\n",
    "print(classification_report(y_test, y_pred))"
   ]
  },
  {
   "cell_type": "markdown",
   "id": "bb479199",
   "metadata": {
    "papermill": {
     "duration": 0.025421,
     "end_time": "2022-06-15T11:38:26.210597",
     "exception": false,
     "start_time": "2022-06-15T11:38:26.185176",
     "status": "completed"
    },
    "tags": []
   },
   "source": [
    "# Decision Tree Classifier\n",
    "\n",
    "*This classifier creates a decision tree based on which, it assigns the class values to each data point. Here, we can vary the maximum number of features to be considered while creating the model. 'i' range features from 1 to 30 (the total features in the dataset after dummy columns were added).*"
   ]
  },
  {
   "cell_type": "code",
   "execution_count": 37,
   "id": "8e18bdfa",
   "metadata": {
    "execution": {
     "iopub.execute_input": "2022-06-15T11:38:26.263714Z",
     "iopub.status.busy": "2022-06-15T11:38:26.263044Z",
     "iopub.status.idle": "2022-06-15T11:38:26.401879Z",
     "shell.execute_reply": "2022-06-15T11:38:26.401105Z"
    },
    "papermill": {
     "duration": 0.167801,
     "end_time": "2022-06-15T11:38:26.404145",
     "exception": false,
     "start_time": "2022-06-15T11:38:26.236344",
     "status": "completed"
    },
    "tags": []
   },
   "outputs": [],
   "source": [
    "dt_scores = []\n",
    "for i in range(1, len(X.columns) + 1):\n",
    "    dt_classifier = DecisionTreeClassifier(max_features = i, random_state = 0)\n",
    "    dt_classifier.fit(X_train, y_train)\n",
    "    dt_scores.append(dt_classifier.score(X_test, y_test))"
   ]
  },
  {
   "cell_type": "markdown",
   "id": "e5d19b7f",
   "metadata": {
    "papermill": {
     "duration": 0.025224,
     "end_time": "2022-06-15T11:38:26.454732",
     "exception": false,
     "start_time": "2022-06-15T11:38:26.429508",
     "status": "completed"
    },
    "tags": []
   },
   "source": [
    "*Once we have the scores, we can then plot a line graph and see the effect of the number of features on the model scores.*"
   ]
  },
  {
   "cell_type": "code",
   "execution_count": 38,
   "id": "a0bbd82c",
   "metadata": {
    "execution": {
     "iopub.execute_input": "2022-06-15T11:38:26.508852Z",
     "iopub.status.busy": "2022-06-15T11:38:26.508192Z",
     "iopub.status.idle": "2022-06-15T11:38:27.029700Z",
     "shell.execute_reply": "2022-06-15T11:38:27.028426Z"
    },
    "papermill": {
     "duration": 0.552338,
     "end_time": "2022-06-15T11:38:27.032741",
     "exception": false,
     "start_time": "2022-06-15T11:38:26.480403",
     "status": "completed"
    },
    "tags": []
   },
   "outputs": [
    {
     "data": {
      "text/plain": [
       "Text(0.5, 1.0, 'Decision Tree Classifier scores for different number of maximum features')"
      ]
     },
     "execution_count": 38,
     "metadata": {},
     "output_type": "execute_result"
    },
    {
     "data": {
      "image/png": "[encoded data removed]",
      "text/plain": [
       "<Figure size 1800x720 with 1 Axes>"
      ]
     },
     "metadata": {
      "needs_background": "light"
     },
     "output_type": "display_data"
    }
   ],
   "source": [
    "plt.figure(figsize=(25,10))\n",
    "\n",
    "plt.plot([i for i in range(1, len(X.columns) + 1)], dt_scores, color = 'green')\n",
    "for i in range(1, len(X.columns) + 1):\n",
    "    plt.text(i, dt_scores[i-1], (i, round(dt_scores[i-1],4)))\n",
    "plt.xticks([i for i in range(1, len(X.columns) + 1)])\n",
    "plt.xlabel('Max features')\n",
    "plt.ylabel('Scores')\n",
    "plt.title('Decision Tree Classifier scores for different number of maximum features')"
   ]
  },
  {
   "cell_type": "markdown",
   "id": "6f30dee7",
   "metadata": {
    "papermill": {
     "duration": 0.027035,
     "end_time": "2022-06-15T11:38:27.087787",
     "exception": false,
     "start_time": "2022-06-15T11:38:27.060752",
     "status": "completed"
    },
    "tags": []
   },
   "source": [
    "*From the line graph above, we can clearly see that the maximum score is 88.52% and is achieved for maximum features being selected to be 4.*"
   ]
  },
  {
   "cell_type": "markdown",
   "id": "1bc016d9",
   "metadata": {
    "papermill": {
     "duration": 0.02693,
     "end_time": "2022-06-15T11:38:27.142071",
     "exception": false,
     "start_time": "2022-06-15T11:38:27.115141",
     "status": "completed"
    },
    "tags": []
   },
   "source": [
    "# Cross Validating Best Model"
   ]
  },
  {
   "cell_type": "code",
   "execution_count": 39,
   "id": "6ce27d9f",
   "metadata": {
    "execution": {
     "iopub.execute_input": "2022-06-15T11:38:27.200602Z",
     "iopub.status.busy": "2022-06-15T11:38:27.199506Z",
     "iopub.status.idle": "2022-06-15T11:38:27.241096Z",
     "shell.execute_reply": "2022-06-15T11:38:27.240066Z"
    },
    "papermill": {
     "duration": 0.072845,
     "end_time": "2022-06-15T11:38:27.243405",
     "exception": false,
     "start_time": "2022-06-15T11:38:27.170560",
     "status": "completed"
    },
    "tags": []
   },
   "outputs": [
    {
     "data": {
      "text/plain": [
       "array([0.81632653, 0.6875    , 0.6875    , 0.75      , 0.66666667])"
      ]
     },
     "execution_count": 39,
     "metadata": {},
     "output_type": "execute_result"
    }
   ],
   "source": [
    "from sklearn.model_selection import cross_val_score\n",
    "\n",
    "dt_classifier = DecisionTreeClassifier(max_features = 4, random_state = 0)\n",
    "\n",
    "dt_classifier.fit(X_train, y_train)\n",
    "cross_val_score(dt_classifier, X_train, y_train, cv=5)"
   ]
  },
  {
   "cell_type": "markdown",
   "id": "e6fd71a6",
   "metadata": {
    "papermill": {
     "duration": 0.02719,
     "end_time": "2022-06-15T11:38:27.298080",
     "exception": false,
     "start_time": "2022-06-15T11:38:27.270890",
     "status": "completed"
    },
    "tags": []
   },
   "source": [
    "# Gaining all metric value for test"
   ]
  },
  {
   "cell_type": "code",
   "execution_count": 40,
   "id": "a7b54072",
   "metadata": {
    "execution": {
     "iopub.execute_input": "2022-06-15T11:38:27.354731Z",
     "iopub.status.busy": "2022-06-15T11:38:27.354337Z",
     "iopub.status.idle": "2022-06-15T11:38:27.368494Z",
     "shell.execute_reply": "2022-06-15T11:38:27.367010Z"
    },
    "papermill": {
     "duration": 0.045036,
     "end_time": "2022-06-15T11:38:27.370555",
     "exception": false,
     "start_time": "2022-06-15T11:38:27.325519",
     "status": "completed"
    },
    "tags": []
   },
   "outputs": [
    {
     "name": "stdout",
     "output_type": "stream",
     "text": [
      "              precision    recall  f1-score   support\n",
      "\n",
      "           0       0.87      0.90      0.88        29\n",
      "           1       0.90      0.88      0.89        32\n",
      "\n",
      "    accuracy                           0.89        61\n",
      "   macro avg       0.88      0.89      0.89        61\n",
      "weighted avg       0.89      0.89      0.89        61\n",
      "\n"
     ]
    }
   ],
   "source": [
    "from sklearn.metrics import classification_report\n",
    "\n",
    "y_pred = dt_classifier.predict(X_test)\n",
    "\n",
    "print(classification_report(y_test, y_pred))"
   ]
  },
  {
   "cell_type": "markdown",
   "id": "0464dd6f",
   "metadata": {
    "papermill": {
     "duration": 0.027801,
     "end_time": "2022-06-15T11:38:27.426538",
     "exception": false,
     "start_time": "2022-06-15T11:38:27.398737",
     "status": "completed"
    },
    "tags": []
   },
   "source": [
    "# Random Forest Classifier\n",
    "\n",
    "*This classifier takes the concept of decision trees to the next level. It creates a forest of trees where each tree is formed by a random selection of features from the total features. Here, we can vary the number of trees that will be used to predict the class. I calculate test scores over 10, 100, 200, 500 and 1000 trees.*"
   ]
  },
  {
   "cell_type": "code",
   "execution_count": 41,
   "id": "ee4ba6b1",
   "metadata": {
    "execution": {
     "iopub.execute_input": "2022-06-15T11:38:27.484578Z",
     "iopub.status.busy": "2022-06-15T11:38:27.483930Z",
     "iopub.status.idle": "2022-06-15T11:38:31.032245Z",
     "shell.execute_reply": "2022-06-15T11:38:31.031171Z"
    },
    "papermill": {
     "duration": 3.580171,
     "end_time": "2022-06-15T11:38:31.034914",
     "exception": false,
     "start_time": "2022-06-15T11:38:27.454743",
     "status": "completed"
    },
    "tags": []
   },
   "outputs": [],
   "source": [
    "rf_scores = []\n",
    "estimators = [10, 100, 200, 500, 1000]\n",
    "for i in estimators:\n",
    "    rf_classifier = RandomForestClassifier(n_estimators = i, random_state = 0)\n",
    "    rf_classifier.fit(X_train, y_train)\n",
    "    rf_scores.append(rf_classifier.score(X_test, y_test))"
   ]
  },
  {
   "cell_type": "markdown",
   "id": "afd7ffdd",
   "metadata": {
    "papermill": {
     "duration": 0.028193,
     "end_time": "2022-06-15T11:38:31.091607",
     "exception": false,
     "start_time": "2022-06-15T11:38:31.063414",
     "status": "completed"
    },
    "tags": []
   },
   "source": [
    "*Next, I plot these scores across a bar graph to see which gave the best results. You may notice that I did not directly set the X values as the array [10, 100, 200, 500, 1000]. It will show a continuous plot from 10 to 1000, which would be impossible to decipher. So, to solve this issue, I first used the X values as [1, 2, 3, 4, 5]. Then, I renamed them using xticks.*"
   ]
  },
  {
   "cell_type": "code",
   "execution_count": 42,
   "id": "905ab377",
   "metadata": {
    "execution": {
     "iopub.execute_input": "2022-06-15T11:38:31.151004Z",
     "iopub.status.busy": "2022-06-15T11:38:31.149874Z",
     "iopub.status.idle": "2022-06-15T11:38:31.352067Z",
     "shell.execute_reply": "2022-06-15T11:38:31.350989Z"
    },
    "papermill": {
     "duration": 0.234119,
     "end_time": "2022-06-15T11:38:31.354325",
     "exception": false,
     "start_time": "2022-06-15T11:38:31.120206",
     "status": "completed"
    },
    "tags": []
   },
   "outputs": [
    {
     "data": {
      "text/plain": [
       "Text(0.5, 1.0, 'Random Forest Classifier scores for different number of estimators')"
      ]
     },
     "execution_count": 42,
     "metadata": {},
     "output_type": "execute_result"
    },
    {
     "data": {
      "image/png": "[encoded data removed]",
      "text/plain": [
       "<Figure size 576x432 with 1 Axes>"
      ]
     },
     "metadata": {
      "needs_background": "light"
     },
     "output_type": "display_data"
    }
   ],
   "source": [
    "colors = rainbow(np.linspace(0, 1, len(estimators)))\n",
    "plt.bar([i for i in range(len(estimators))], rf_scores, color = colors, width = 0.8)\n",
    "for i in range(len(estimators)):\n",
    "    plt.text(i, rf_scores[i], round(rf_scores[i],4))\n",
    "plt.xticks(ticks = [i for i in range(len(estimators))], labels = [str(estimator) for estimator in estimators])\n",
    "plt.xlabel('Number of estimators')\n",
    "plt.ylabel('Scores')\n",
    "plt.title('Random Forest Classifier scores for different number of estimators')"
   ]
  },
  {
   "cell_type": "markdown",
   "id": "b9faa857",
   "metadata": {
    "papermill": {
     "duration": 0.029401,
     "end_time": "2022-06-15T11:38:31.412469",
     "exception": false,
     "start_time": "2022-06-15T11:38:31.383068",
     "status": "completed"
    },
    "tags": []
   },
   "source": [
    "*Taking a look at the bar graph, we can see that the maximum score of 86.88% was achieved for both 100, 200,500 and 1000 trees*"
   ]
  },
  {
   "cell_type": "markdown",
   "id": "67722a54",
   "metadata": {
    "papermill": {
     "duration": 0.028323,
     "end_time": "2022-06-15T11:38:31.470289",
     "exception": false,
     "start_time": "2022-06-15T11:38:31.441966",
     "status": "completed"
    },
    "tags": []
   },
   "source": [
    "# Cross Validating Best Model"
   ]
  },
  {
   "cell_type": "code",
   "execution_count": 43,
   "id": "56413ff6",
   "metadata": {
    "execution": {
     "iopub.execute_input": "2022-06-15T11:38:31.531786Z",
     "iopub.status.busy": "2022-06-15T11:38:31.530694Z",
     "iopub.status.idle": "2022-06-15T11:38:33.717006Z",
     "shell.execute_reply": "2022-06-15T11:38:33.716064Z"
    },
    "papermill": {
     "duration": 2.218982,
     "end_time": "2022-06-15T11:38:33.719097",
     "exception": false,
     "start_time": "2022-06-15T11:38:31.500115",
     "status": "completed"
    },
    "tags": []
   },
   "outputs": [
    {
     "data": {
      "text/plain": [
       "array([0.8       , 0.91666667, 0.875     , 0.83333333, 0.875     ,\n",
       "       0.70833333, 0.79166667, 0.83333333, 0.79166667, 0.83333333])"
      ]
     },
     "execution_count": 43,
     "metadata": {},
     "output_type": "execute_result"
    }
   ],
   "source": [
    "from sklearn.model_selection import cross_val_score\n",
    "\n",
    "rf_classifier = RandomForestClassifier(n_estimators = 100, random_state = 0)\n",
    "\n",
    "rf_classifier.fit(X_train, y_train)\n",
    "cross_val_score(rf_classifier, X_train, y_train, cv=10)"
   ]
  },
  {
   "cell_type": "markdown",
   "id": "c4eb31aa",
   "metadata": {
    "papermill": {
     "duration": 0.02792,
     "end_time": "2022-06-15T11:38:33.775036",
     "exception": false,
     "start_time": "2022-06-15T11:38:33.747116",
     "status": "completed"
    },
    "tags": []
   },
   "source": [
    "# Gaining all metric value for test"
   ]
  },
  {
   "cell_type": "code",
   "execution_count": 44,
   "id": "3b9ab44f",
   "metadata": {
    "execution": {
     "iopub.execute_input": "2022-06-15T11:38:33.834245Z",
     "iopub.status.busy": "2022-06-15T11:38:33.833291Z",
     "iopub.status.idle": "2022-06-15T11:38:33.858078Z",
     "shell.execute_reply": "2022-06-15T11:38:33.856718Z"
    },
    "papermill": {
     "duration": 0.057031,
     "end_time": "2022-06-15T11:38:33.860316",
     "exception": false,
     "start_time": "2022-06-15T11:38:33.803285",
     "status": "completed"
    },
    "tags": []
   },
   "outputs": [
    {
     "name": "stdout",
     "output_type": "stream",
     "text": [
      "              precision    recall  f1-score   support\n",
      "\n",
      "           0       0.89      0.83      0.86        29\n",
      "           1       0.85      0.91      0.88        32\n",
      "\n",
      "    accuracy                           0.87        61\n",
      "   macro avg       0.87      0.87      0.87        61\n",
      "weighted avg       0.87      0.87      0.87        61\n",
      "\n"
     ]
    }
   ],
   "source": [
    "from sklearn.metrics import classification_report\n",
    "\n",
    "y_pred = rf_classifier.predict(X_test)\n",
    "\n",
    "print(classification_report(y_test, y_pred))"
   ]
  },
  {
   "cell_type": "markdown",
   "id": "4657b0d0",
   "metadata": {
    "papermill": {
     "duration": 0.028309,
     "end_time": "2022-06-15T11:38:33.917472",
     "exception": false,
     "start_time": "2022-06-15T11:38:33.889163",
     "status": "completed"
    },
    "tags": []
   },
   "source": [
    "# Conclusion\n",
    "\n",
    "*The project involved analysis of the heart disease patient dataset with proper data processing. Then, 4 models were trained and tested with maximum scores as follows:*\n",
    "\n",
    "1. K Neighbors Classifier: Training Accuracy: 91.8%, Testing Accuracy: 92%\n",
    "2. Support Vector Classifier: Training Accuracy:90.16%, Testing Accuracy: 90%\n",
    "3. Decision Tree Classifier: Training Accuracy: 88.52%, Testing Accuracy: 89%\n",
    "4. Random Forest Classifier: Training Accuracy: 88.52%, Testing Accuracy:87%"
   ]
  }
 ],
 "metadata": {
  "kernelspec": {
   "display_name": "Python 3 (ipykernel)",
   "language": "python",
   "name": "python3"
  },
  "language_info": {
   "codemirror_mode": {
    "name": "ipython",
    "version": 3
   },
   "file_extension": ".py",
   "mimetype": "text/x-python",
   "name": "python",
   "nbconvert_exporter": "python",
   "pygments_lexer": "ipython3",
   "version": "3.9.7"
  },
  "papermill": {
   "default_parameters": {},
   "duration": 33.233877,
   "end_time": "2022-06-15T11:38:34.869333",
   "environment_variables": {},
   "exception": null,
   "input_path": "__notebook__.ipynb",
   "output_path": "__notebook__.ipynb",
   "parameters": {},
   "start_time": "2022-06-15T11:38:01.635456",
   "version": "2.3.4"
  }
 },
 "nbformat": 4,
 "nbformat_minor": 5
}
